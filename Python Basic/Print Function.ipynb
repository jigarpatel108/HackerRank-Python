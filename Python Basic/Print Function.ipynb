{
 "cells": [
  {
   "cell_type": "code",
   "execution_count": null,
   "id": "0f94729c-d3f7-45b4-beaf-7ebadd3b4c3f",
   "metadata": {},
   "outputs": [],
   "source": [
    "'''\n",
    "Problem:\n",
    "The included code stub will read an integer n, from STDIN.\n",
    "Without using any string methods, try to print the following: 123...n\n",
    "Note that \"...\" represents the consecutive values in between.\n",
    "Example\n",
    "n=5\n",
    "Print the string 12345\n",
    "Input Format:\n",
    "The first line contains an integer n\n",
    "Constraints:\n",
    "1<=n<=150\n",
    "Output Format:\n",
    "Print the list of integers from 1 through n as a string, without spaces.\n",
    "'''\n",
    "\n",
    "'''\n",
    "Solution:\n",
    "Prima facie this problem looks an easy one but it is not.\n",
    "There are four points we need to take care of:\n",
    "1. Accept an integer input from the user.\n",
    "2. Check whether that input is an integer or not. If not, request for an integer.\n",
    "3. Check whether the input entered is as per the constraint 1<=n<=150. If not, request for the same.\n",
    "4. If the input is proper as per our requirement, print the entire range from 1 to n in a single row.\n",
    "'''\n",
    "\n",
    "try:\n",
    "    n = int(input())\n",
    "    if n<1 or n>150:\n",
    "         print(\"Please enter a number between 1 and 150 only.\")\n",
    "    elif 1<=n<=150:\n",
    "         for i in range(1,n+1):\n",
    "             print(i, end='')\n",
    "except ValueError:\n",
    "    print(\"Kindly enter an integer.\")"
   ]
  },
  {
   "cell_type": "code",
   "execution_count": null,
   "id": "fba0a52f-d6f4-45d3-bde1-b34261f8c4bb",
   "metadata": {},
   "outputs": [],
   "source": []
  }
 ],
 "metadata": {
  "kernelspec": {
   "display_name": "Python 3 (ipykernel)",
   "language": "python",
   "name": "python3"
  },
  "language_info": {
   "codemirror_mode": {
    "name": "ipython",
    "version": 3
   },
   "file_extension": ".py",
   "mimetype": "text/x-python",
   "name": "python",
   "nbconvert_exporter": "python",
   "pygments_lexer": "ipython3",
   "version": "3.9.18"
  }
 },
 "nbformat": 4,
 "nbformat_minor": 5
}
