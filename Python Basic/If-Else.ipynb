{
 "cells": [
  {
   "cell_type": "markdown",
   "id": "b859d80d-a494-4bbe-9038-3336c3d4e90e",
   "metadata": {},
   "source": [
    "Task:\n",
    "Given an integer, , perform the following conditional actions:\n",
    "\n",
    "If n is odd, print Weird\n",
    "If n is even and in the inclusive range of 2 to 5, print Not Weird\n",
    "If n is even and in the inclusive range of 6 to 20, print Weird\n",
    "If n is even and greater than 20, print Not Weird\n",
    "Input Format\n",
    "\n",
    "A single line containing a positive integer, n.\n",
    "\n",
    "Constraints:\n",
    "1 <= n <= 100\n",
    "\n",
    "Output Format\n",
    "\n",
    "Print Weird if the number is weird. Otherwise, print Not Weird.\n",
    "\n",
    "Sample Input 0\n",
    "3\n",
    "\n",
    "Sample Output 0\n",
    "Weird\n",
    "\n",
    "Explanation 0\n",
    "n=3\n",
    "n is odd and odd numbers are weird, so print Weird.\n",
    "\n",
    "Sample Input 1\n",
    "24\n",
    "\n",
    "Sample Output 1\n",
    "Not Weird\n",
    "\n",
    "Explanation 1\n",
    "n=24\n",
    "n>20 and n is even, so it is not weird."
   ]
  },
  {
   "cell_type": "code",
   "execution_count": null,
   "id": "2ce92781-ad10-4de6-a119-b36585c2b702",
   "metadata": {},
   "outputs": [],
   "source": [
    "import math\n",
    "\n",
    "\n",
    "n = int(input().strip())\n",
    "\n",
    "if n%2 == 1:\n",
    "        print(\"Weird\")\n",
    "        \n",
    "elif n>=2 and n<=5:\n",
    "    print(\"Not Weird\")\n",
    "    \n",
    "elif n>=6 and n<=20:\n",
    "    print(\"Weird\")\n",
    "\n",
    "elif n>20:\n",
    "    print(\"Not Weird\")"
   ]
  },
  {
   "cell_type": "code",
   "execution_count": null,
   "id": "c0825a0d-2f95-42ad-89e5-6d2eddba142f",
   "metadata": {},
   "outputs": [],
   "source": []
  }
 ],
 "metadata": {
  "kernelspec": {
   "display_name": "Python 3 (ipykernel)",
   "language": "python",
   "name": "python3"
  },
  "language_info": {
   "codemirror_mode": {
    "name": "ipython",
    "version": 3
   },
   "file_extension": ".py",
   "mimetype": "text/x-python",
   "name": "python",
   "nbconvert_exporter": "python",
   "pygments_lexer": "ipython3",
   "version": "3.9.18"
  }
 },
 "nbformat": 4,
 "nbformat_minor": 5
}
